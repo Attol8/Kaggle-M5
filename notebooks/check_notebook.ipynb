{
 "cells": [
  {
   "cell_type": "code",
   "execution_count": 1,
   "metadata": {},
   "outputs": [],
   "source": [
    "import os,sys,inspect\n",
    "current_dir = os.path.dirname(os.path.abspath(inspect.getfile(inspect.currentframe())))\n",
    "parent_dir = os.path.dirname(current_dir)\n",
    "sys.path.insert(0, parent_dir) "
   ]
  },
  {
   "cell_type": "code",
   "execution_count": 2,
   "metadata": {},
   "outputs": [],
   "source": [
    "import datetime\n",
    "import gc\n",
    "import numpy as np, pandas as pd\n",
    "import lightgbm as lgb\n",
    "import os"
   ]
  },
  {
   "cell_type": "code",
   "execution_count": 3,
   "metadata": {},
   "outputs": [],
   "source": [
    "from utils import *"
   ]
  },
  {
   "cell_type": "code",
   "execution_count": 7,
   "metadata": {},
   "outputs": [],
   "source": [
    "dt = pd.read_feather(r'..\\input_data\\train.feather')\n",
    "dtest = pd.read_feather(r'..\\input_data\\test.feather')"
   ]
  },
  {
   "cell_type": "code",
   "execution_count": 5,
   "metadata": {},
   "outputs": [
    {
     "output_type": "stream",
     "name": "stdout",
     "text": "<class 'pandas.core.frame.DataFrame'>\nRangeIndex: 24825039 entries, 0 to 24825038\nData columns (total 22 columns):\n #   Column        Dtype         \n---  ------        -----         \n 0   id            object        \n 1   item_id       int16         \n 2   dept_id       int16         \n 3   store_id      int16         \n 4   cat_id        int16         \n 5   state_id      int16         \n 6   d             int16         \n 7   sales         float64       \n 8   date          datetime64[ns]\n 9   wm_yr_wk      int16         \n 10  weekday       int16         \n 11  wday          int16         \n 12  month         int16         \n 13  year          int16         \n 14  event_name_1  int16         \n 15  event_type_1  int16         \n 16  event_name_2  int16         \n 17  event_type_2  int16         \n 18  snap_CA       float32       \n 19  snap_TX       float32       \n 20  snap_WI       float32       \n 21  sell_price    float32       \ndtypes: datetime64[ns](1), float32(4), float64(1), int16(15), object(1)\nmemory usage: 1.6+ GB\n"
    }
   ],
   "source": [
    "dt.info()"
   ]
  },
  {
   "cell_type": "code",
   "execution_count": 8,
   "metadata": {},
   "outputs": [
    {
     "output_type": "execute_result",
     "data": {
      "text/plain": "28727479"
     },
     "metadata": {},
     "execution_count": 8
    }
   ],
   "source": [
    "len(dt) + len(dtest)"
   ]
  },
  {
   "cell_type": "code",
   "execution_count": 6,
   "metadata": {},
   "outputs": [
    {
     "output_type": "execute_result",
     "data": {
      "text/plain": "Empty DataFrame\nColumns: [id, item_id, dept_id, store_id, cat_id, state_id, d, sales, date, wm_yr_wk, weekday, wday, month, year, event_name_1, event_type_1, event_name_2, event_type_2, snap_CA, snap_TX, snap_WI, sell_price, lag_7, lag_28, rmean_7_7, rmean_28_7, rmean_7_28, rmean_28_28, week, quarter, mday]\nIndex: []\n\n[0 rows x 31 columns]",
      "text/html": "<div>\n<style scoped>\n    .dataframe tbody tr th:only-of-type {\n        vertical-align: middle;\n    }\n\n    .dataframe tbody tr th {\n        vertical-align: top;\n    }\n\n    .dataframe thead th {\n        text-align: right;\n    }\n</style>\n<table border=\"1\" class=\"dataframe\">\n  <thead>\n    <tr style=\"text-align: right;\">\n      <th></th>\n      <th>id</th>\n      <th>item_id</th>\n      <th>dept_id</th>\n      <th>store_id</th>\n      <th>cat_id</th>\n      <th>state_id</th>\n      <th>d</th>\n      <th>sales</th>\n      <th>date</th>\n      <th>wm_yr_wk</th>\n      <th>...</th>\n      <th>sell_price</th>\n      <th>lag_7</th>\n      <th>lag_28</th>\n      <th>rmean_7_7</th>\n      <th>rmean_28_7</th>\n      <th>rmean_7_28</th>\n      <th>rmean_28_28</th>\n      <th>week</th>\n      <th>quarter</th>\n      <th>mday</th>\n    </tr>\n  </thead>\n  <tbody>\n  </tbody>\n</table>\n<p>0 rows × 31 columns</p>\n</div>"
     },
     "metadata": {},
     "execution_count": 6
    }
   ],
   "source": [
    "dt[dt['lag_7'] == np.nan]"
   ]
  },
  {
   "cell_type": "code",
   "execution_count": 7,
   "metadata": {},
   "outputs": [
    {
     "output_type": "stream",
     "name": "stdout",
     "text": "<class 'pandas.core.frame.DataFrame'>\nRangeIndex: 25678759 entries, 0 to 25678758\nData columns (total 31 columns):\n #   Column        Dtype         \n---  ------        -----         \n 0   id            object        \n 1   item_id       int16         \n 2   dept_id       int16         \n 3   store_id      int16         \n 4   cat_id        int16         \n 5   state_id      int16         \n 6   d             object        \n 7   sales         float64       \n 8   date          datetime64[ns]\n 9   wm_yr_wk      int16         \n 10  weekday       int16         \n 11  wday          int16         \n 12  month         int16         \n 13  year          int16         \n 14  event_name_1  int16         \n 15  event_type_1  int16         \n 16  event_name_2  int16         \n 17  event_type_2  int16         \n 18  snap_CA       float32       \n 19  snap_TX       float32       \n 20  snap_WI       float32       \n 21  sell_price    float32       \n 22  lag_7         float64       \n 23  lag_28        float64       \n 24  rmean_7_7     float64       \n 25  rmean_28_7    float64       \n 26  rmean_7_28    float64       \n 27  rmean_28_28   float64       \n 28  week          int16         \n 29  quarter       int16         \n 30  mday          int16         \ndtypes: datetime64[ns](1), float32(4), float64(7), int16(17), object(2)\nmemory usage: 3.1+ GB\n"
    }
   ],
   "source": [
    "dt.info()"
   ]
  },
  {
   "cell_type": "code",
   "execution_count": 8,
   "metadata": {},
   "outputs": [
    {
     "output_type": "execute_result",
     "data": {
      "text/plain": "                              id  item_id  dept_id  store_id  cat_id  \\\n0  HOBBIES_1_001_CA_1_validation        0        0         0       0   \n1  HOBBIES_1_001_CA_1_validation        0        0         0       0   \n2  HOBBIES_1_001_CA_1_validation        0        0         0       0   \n3  HOBBIES_1_002_CA_1_validation        1        0         0       0   \n4  HOBBIES_1_002_CA_1_validation        1        0         0       0   \n\n   state_id       d  sales       date  wm_yr_wk  ...  sell_price  lag_7  \\\n0         0  d_1069    1.0 2014-01-01     11349  ...        8.26    NaN   \n1         0  d_1070    1.0 2014-01-02     11349  ...        8.26    NaN   \n2         0  d_1071    0.0 2014-01-03     11349  ...        8.26    NaN   \n3         0  d_1069    0.0 2014-01-01     11349  ...        3.97    NaN   \n4         0  d_1070    0.0 2014-01-02     11349  ...        3.97    NaN   \n\n   lag_28  rmean_7_7  rmean_28_7  rmean_7_28  rmean_28_28  week  quarter  mday  \n0     NaN        NaN         NaN         NaN          NaN     1        1     1  \n1     NaN        NaN         NaN         NaN          NaN     1        1     2  \n2     NaN        NaN         NaN         NaN          NaN     1        1     3  \n3     NaN        NaN         NaN         NaN          NaN     1        1     1  \n4     NaN        NaN         NaN         NaN          NaN     1        1     2  \n\n[5 rows x 31 columns]",
      "text/html": "<div>\n<style scoped>\n    .dataframe tbody tr th:only-of-type {\n        vertical-align: middle;\n    }\n\n    .dataframe tbody tr th {\n        vertical-align: top;\n    }\n\n    .dataframe thead th {\n        text-align: right;\n    }\n</style>\n<table border=\"1\" class=\"dataframe\">\n  <thead>\n    <tr style=\"text-align: right;\">\n      <th></th>\n      <th>id</th>\n      <th>item_id</th>\n      <th>dept_id</th>\n      <th>store_id</th>\n      <th>cat_id</th>\n      <th>state_id</th>\n      <th>d</th>\n      <th>sales</th>\n      <th>date</th>\n      <th>wm_yr_wk</th>\n      <th>...</th>\n      <th>sell_price</th>\n      <th>lag_7</th>\n      <th>lag_28</th>\n      <th>rmean_7_7</th>\n      <th>rmean_28_7</th>\n      <th>rmean_7_28</th>\n      <th>rmean_28_28</th>\n      <th>week</th>\n      <th>quarter</th>\n      <th>mday</th>\n    </tr>\n  </thead>\n  <tbody>\n    <tr>\n      <th>0</th>\n      <td>HOBBIES_1_001_CA_1_validation</td>\n      <td>0</td>\n      <td>0</td>\n      <td>0</td>\n      <td>0</td>\n      <td>0</td>\n      <td>d_1069</td>\n      <td>1.0</td>\n      <td>2014-01-01</td>\n      <td>11349</td>\n      <td>...</td>\n      <td>8.26</td>\n      <td>NaN</td>\n      <td>NaN</td>\n      <td>NaN</td>\n      <td>NaN</td>\n      <td>NaN</td>\n      <td>NaN</td>\n      <td>1</td>\n      <td>1</td>\n      <td>1</td>\n    </tr>\n    <tr>\n      <th>1</th>\n      <td>HOBBIES_1_001_CA_1_validation</td>\n      <td>0</td>\n      <td>0</td>\n      <td>0</td>\n      <td>0</td>\n      <td>0</td>\n      <td>d_1070</td>\n      <td>1.0</td>\n      <td>2014-01-02</td>\n      <td>11349</td>\n      <td>...</td>\n      <td>8.26</td>\n      <td>NaN</td>\n      <td>NaN</td>\n      <td>NaN</td>\n      <td>NaN</td>\n      <td>NaN</td>\n      <td>NaN</td>\n      <td>1</td>\n      <td>1</td>\n      <td>2</td>\n    </tr>\n    <tr>\n      <th>2</th>\n      <td>HOBBIES_1_001_CA_1_validation</td>\n      <td>0</td>\n      <td>0</td>\n      <td>0</td>\n      <td>0</td>\n      <td>0</td>\n      <td>d_1071</td>\n      <td>0.0</td>\n      <td>2014-01-03</td>\n      <td>11349</td>\n      <td>...</td>\n      <td>8.26</td>\n      <td>NaN</td>\n      <td>NaN</td>\n      <td>NaN</td>\n      <td>NaN</td>\n      <td>NaN</td>\n      <td>NaN</td>\n      <td>1</td>\n      <td>1</td>\n      <td>3</td>\n    </tr>\n    <tr>\n      <th>3</th>\n      <td>HOBBIES_1_002_CA_1_validation</td>\n      <td>1</td>\n      <td>0</td>\n      <td>0</td>\n      <td>0</td>\n      <td>0</td>\n      <td>d_1069</td>\n      <td>0.0</td>\n      <td>2014-01-01</td>\n      <td>11349</td>\n      <td>...</td>\n      <td>3.97</td>\n      <td>NaN</td>\n      <td>NaN</td>\n      <td>NaN</td>\n      <td>NaN</td>\n      <td>NaN</td>\n      <td>NaN</td>\n      <td>1</td>\n      <td>1</td>\n      <td>1</td>\n    </tr>\n    <tr>\n      <th>4</th>\n      <td>HOBBIES_1_002_CA_1_validation</td>\n      <td>1</td>\n      <td>0</td>\n      <td>0</td>\n      <td>0</td>\n      <td>0</td>\n      <td>d_1070</td>\n      <td>0.0</td>\n      <td>2014-01-02</td>\n      <td>11349</td>\n      <td>...</td>\n      <td>3.97</td>\n      <td>NaN</td>\n      <td>NaN</td>\n      <td>NaN</td>\n      <td>NaN</td>\n      <td>NaN</td>\n      <td>NaN</td>\n      <td>1</td>\n      <td>1</td>\n      <td>2</td>\n    </tr>\n  </tbody>\n</table>\n<p>5 rows × 31 columns</p>\n</div>"
     },
     "metadata": {},
     "execution_count": 8
    }
   ],
   "source": [
    "dt.head()"
   ]
  },
  {
   "cell_type": "code",
   "execution_count": 9,
   "metadata": {},
   "outputs": [],
   "source": [
    "test = pd.read_feather('..\\output\\data-Poe05-test.feather')"
   ]
  },
  {
   "cell_type": "code",
   "execution_count": 12,
   "metadata": {},
   "outputs": [
    {
     "output_type": "execute_result",
     "data": {
      "text/plain": "id                   0\nitem_id              0\ndept_id              0\nstore_id             0\ncat_id               0\nstate_id             0\nd                    0\nsales           853720\ndate                 0\nwm_yr_wk             0\nweekday              0\nwday                 0\nmonth                0\nyear                 0\nevent_name_1         0\nevent_type_1         0\nevent_name_2         0\nevent_type_2         0\nsnap_CA              0\nsnap_TX              0\nsnap_WI              0\nsell_price           0\nlag_7           640290\nlag_28               0\nrmean_7_7       640290\nrmean_28_7           0\nrmean_7_28      640290\nrmean_28_28          0\nweek                 0\nquarter              0\nmday                 0\ndtype: int64"
     },
     "metadata": {},
     "execution_count": 12
    }
   ],
   "source": [
    "test.isna().sum()"
   ]
  },
  {
   "cell_type": "code",
   "execution_count": null,
   "metadata": {},
   "outputs": [],
   "source": []
  }
 ],
 "metadata": {
  "kernelspec": {
   "display_name": "Python 3",
   "language": "python",
   "name": "python3"
  },
  "language_info": {
   "codemirror_mode": {
    "name": "ipython",
    "version": 3
   },
   "file_extension": ".py",
   "mimetype": "text/x-python",
   "name": "python",
   "nbconvert_exporter": "python",
   "pygments_lexer": "ipython3",
   "version": "3.7.6-final"
  }
 },
 "nbformat": 4,
 "nbformat_minor": 4
}