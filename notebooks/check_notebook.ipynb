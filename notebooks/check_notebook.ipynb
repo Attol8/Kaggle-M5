{
 "cells": [
  {
   "cell_type": "code",
   "execution_count": 1,
   "metadata": {},
   "outputs": [],
   "source": [
    "import os,sys,inspect\n",
    "current_dir = os.path.dirname(os.path.abspath(inspect.getfile(inspect.currentframe())))\n",
    "parent_dir = os.path.dirname(current_dir)\n",
    "sys.path.insert(0, parent_dir) "
   ]
  },
  {
   "cell_type": "code",
   "execution_count": 2,
   "metadata": {},
   "outputs": [],
   "source": [
    "import datetime\n",
    "import gc\n",
    "import numpy as np, pandas as pd\n",
    "import lightgbm as lgb\n",
    "import os"
   ]
  },
  {
   "cell_type": "code",
   "execution_count": 5,
   "metadata": {},
   "outputs": [
    {
     "output_type": "error",
     "ename": "FileNotFoundError",
     "evalue": "[Errno 2] File input_data\\sales_train_validation.csv does not exist: 'input_data\\\\sales_train_validation.csv'",
     "traceback": [
      "\u001b[1;31m---------------------------------------------------------------------------\u001b[0m",
      "\u001b[1;31mFileNotFoundError\u001b[0m                         Traceback (most recent call last)",
      "\u001b[1;32m<ipython-input-5-a513ba42b85a>\u001b[0m in \u001b[0;36m<module>\u001b[1;34m\u001b[0m\n\u001b[1;32m----> 1\u001b[1;33m \u001b[1;32mimport\u001b[0m \u001b[0msettings\u001b[0m\u001b[1;33m\u001b[0m\u001b[1;33m\u001b[0m\u001b[0m\n\u001b[0m",
      "\u001b[1;32mc:\\Users\\jacop\\Desktop\\python projects\\M5-kaggle\\settings.py\u001b[0m in \u001b[0;36m<module>\u001b[1;34m\u001b[0m\n\u001b[0;32m     28\u001b[0m \u001b[1;31m#constants\u001b[0m\u001b[1;33m\u001b[0m\u001b[1;33m\u001b[0m\u001b[1;33m\u001b[0m\u001b[0m\n\u001b[0;32m     29\u001b[0m \u001b[0mTARGET\u001b[0m \u001b[1;33m=\u001b[0m \u001b[1;34m'sales'\u001b[0m            \u001b[1;31m# Our target\u001b[0m\u001b[1;33m\u001b[0m\u001b[1;33m\u001b[0m\u001b[0m\n\u001b[1;32m---> 30\u001b[1;33m \u001b[0mSTORES_IDS\u001b[0m \u001b[1;33m=\u001b[0m \u001b[0mpd\u001b[0m\u001b[1;33m.\u001b[0m\u001b[0mread_csv\u001b[0m\u001b[1;33m(\u001b[0m\u001b[0mMAIN_DATA\u001b[0m\u001b[1;33m)\u001b[0m\u001b[1;33m[\u001b[0m\u001b[1;34m'store_id'\u001b[0m\u001b[1;33m]\u001b[0m\u001b[1;33m\u001b[0m\u001b[1;33m\u001b[0m\u001b[0m\n\u001b[0m\u001b[0;32m     31\u001b[0m \u001b[0mSTORES_IDS\u001b[0m \u001b[1;33m=\u001b[0m \u001b[0mlist\u001b[0m\u001b[1;33m(\u001b[0m\u001b[0mSTORES_IDS\u001b[0m\u001b[1;33m.\u001b[0m\u001b[0munique\u001b[0m\u001b[1;33m(\u001b[0m\u001b[1;33m)\u001b[0m\u001b[1;33m)\u001b[0m\u001b[1;33m\u001b[0m\u001b[1;33m\u001b[0m\u001b[0m\n\u001b[0;32m     32\u001b[0m \u001b[1;33m\u001b[0m\u001b[0m\n",
      "\u001b[1;32m~\\anaconda3\\lib\\site-packages\\pandas\\io\\parsers.py\u001b[0m in \u001b[0;36mparser_f\u001b[1;34m(filepath_or_buffer, sep, delimiter, header, names, index_col, usecols, squeeze, prefix, mangle_dupe_cols, dtype, engine, converters, true_values, false_values, skipinitialspace, skiprows, skipfooter, nrows, na_values, keep_default_na, na_filter, verbose, skip_blank_lines, parse_dates, infer_datetime_format, keep_date_col, date_parser, dayfirst, cache_dates, iterator, chunksize, compression, thousands, decimal, lineterminator, quotechar, quoting, doublequote, escapechar, comment, encoding, dialect, error_bad_lines, warn_bad_lines, delim_whitespace, low_memory, memory_map, float_precision)\u001b[0m\n\u001b[0;32m    674\u001b[0m         )\n\u001b[0;32m    675\u001b[0m \u001b[1;33m\u001b[0m\u001b[0m\n\u001b[1;32m--> 676\u001b[1;33m         \u001b[1;32mreturn\u001b[0m \u001b[0m_read\u001b[0m\u001b[1;33m(\u001b[0m\u001b[0mfilepath_or_buffer\u001b[0m\u001b[1;33m,\u001b[0m \u001b[0mkwds\u001b[0m\u001b[1;33m)\u001b[0m\u001b[1;33m\u001b[0m\u001b[1;33m\u001b[0m\u001b[0m\n\u001b[0m\u001b[0;32m    677\u001b[0m \u001b[1;33m\u001b[0m\u001b[0m\n\u001b[0;32m    678\u001b[0m     \u001b[0mparser_f\u001b[0m\u001b[1;33m.\u001b[0m\u001b[0m__name__\u001b[0m \u001b[1;33m=\u001b[0m \u001b[0mname\u001b[0m\u001b[1;33m\u001b[0m\u001b[1;33m\u001b[0m\u001b[0m\n",
      "\u001b[1;32m~\\anaconda3\\lib\\site-packages\\pandas\\io\\parsers.py\u001b[0m in \u001b[0;36m_read\u001b[1;34m(filepath_or_buffer, kwds)\u001b[0m\n\u001b[0;32m    446\u001b[0m \u001b[1;33m\u001b[0m\u001b[0m\n\u001b[0;32m    447\u001b[0m     \u001b[1;31m# Create the parser.\u001b[0m\u001b[1;33m\u001b[0m\u001b[1;33m\u001b[0m\u001b[1;33m\u001b[0m\u001b[0m\n\u001b[1;32m--> 448\u001b[1;33m     \u001b[0mparser\u001b[0m \u001b[1;33m=\u001b[0m \u001b[0mTextFileReader\u001b[0m\u001b[1;33m(\u001b[0m\u001b[0mfp_or_buf\u001b[0m\u001b[1;33m,\u001b[0m \u001b[1;33m**\u001b[0m\u001b[0mkwds\u001b[0m\u001b[1;33m)\u001b[0m\u001b[1;33m\u001b[0m\u001b[1;33m\u001b[0m\u001b[0m\n\u001b[0m\u001b[0;32m    449\u001b[0m \u001b[1;33m\u001b[0m\u001b[0m\n\u001b[0;32m    450\u001b[0m     \u001b[1;32mif\u001b[0m \u001b[0mchunksize\u001b[0m \u001b[1;32mor\u001b[0m \u001b[0miterator\u001b[0m\u001b[1;33m:\u001b[0m\u001b[1;33m\u001b[0m\u001b[1;33m\u001b[0m\u001b[0m\n",
      "\u001b[1;32m~\\anaconda3\\lib\\site-packages\\pandas\\io\\parsers.py\u001b[0m in \u001b[0;36m__init__\u001b[1;34m(self, f, engine, **kwds)\u001b[0m\n\u001b[0;32m    878\u001b[0m             \u001b[0mself\u001b[0m\u001b[1;33m.\u001b[0m\u001b[0moptions\u001b[0m\u001b[1;33m[\u001b[0m\u001b[1;34m\"has_index_names\"\u001b[0m\u001b[1;33m]\u001b[0m \u001b[1;33m=\u001b[0m \u001b[0mkwds\u001b[0m\u001b[1;33m[\u001b[0m\u001b[1;34m\"has_index_names\"\u001b[0m\u001b[1;33m]\u001b[0m\u001b[1;33m\u001b[0m\u001b[1;33m\u001b[0m\u001b[0m\n\u001b[0;32m    879\u001b[0m \u001b[1;33m\u001b[0m\u001b[0m\n\u001b[1;32m--> 880\u001b[1;33m         \u001b[0mself\u001b[0m\u001b[1;33m.\u001b[0m\u001b[0m_make_engine\u001b[0m\u001b[1;33m(\u001b[0m\u001b[0mself\u001b[0m\u001b[1;33m.\u001b[0m\u001b[0mengine\u001b[0m\u001b[1;33m)\u001b[0m\u001b[1;33m\u001b[0m\u001b[1;33m\u001b[0m\u001b[0m\n\u001b[0m\u001b[0;32m    881\u001b[0m \u001b[1;33m\u001b[0m\u001b[0m\n\u001b[0;32m    882\u001b[0m     \u001b[1;32mdef\u001b[0m \u001b[0mclose\u001b[0m\u001b[1;33m(\u001b[0m\u001b[0mself\u001b[0m\u001b[1;33m)\u001b[0m\u001b[1;33m:\u001b[0m\u001b[1;33m\u001b[0m\u001b[1;33m\u001b[0m\u001b[0m\n",
      "\u001b[1;32m~\\anaconda3\\lib\\site-packages\\pandas\\io\\parsers.py\u001b[0m in \u001b[0;36m_make_engine\u001b[1;34m(self, engine)\u001b[0m\n\u001b[0;32m   1112\u001b[0m     \u001b[1;32mdef\u001b[0m \u001b[0m_make_engine\u001b[0m\u001b[1;33m(\u001b[0m\u001b[0mself\u001b[0m\u001b[1;33m,\u001b[0m \u001b[0mengine\u001b[0m\u001b[1;33m=\u001b[0m\u001b[1;34m\"c\"\u001b[0m\u001b[1;33m)\u001b[0m\u001b[1;33m:\u001b[0m\u001b[1;33m\u001b[0m\u001b[1;33m\u001b[0m\u001b[0m\n\u001b[0;32m   1113\u001b[0m         \u001b[1;32mif\u001b[0m \u001b[0mengine\u001b[0m \u001b[1;33m==\u001b[0m \u001b[1;34m\"c\"\u001b[0m\u001b[1;33m:\u001b[0m\u001b[1;33m\u001b[0m\u001b[1;33m\u001b[0m\u001b[0m\n\u001b[1;32m-> 1114\u001b[1;33m             \u001b[0mself\u001b[0m\u001b[1;33m.\u001b[0m\u001b[0m_engine\u001b[0m \u001b[1;33m=\u001b[0m \u001b[0mCParserWrapper\u001b[0m\u001b[1;33m(\u001b[0m\u001b[0mself\u001b[0m\u001b[1;33m.\u001b[0m\u001b[0mf\u001b[0m\u001b[1;33m,\u001b[0m \u001b[1;33m**\u001b[0m\u001b[0mself\u001b[0m\u001b[1;33m.\u001b[0m\u001b[0moptions\u001b[0m\u001b[1;33m)\u001b[0m\u001b[1;33m\u001b[0m\u001b[1;33m\u001b[0m\u001b[0m\n\u001b[0m\u001b[0;32m   1115\u001b[0m         \u001b[1;32melse\u001b[0m\u001b[1;33m:\u001b[0m\u001b[1;33m\u001b[0m\u001b[1;33m\u001b[0m\u001b[0m\n\u001b[0;32m   1116\u001b[0m             \u001b[1;32mif\u001b[0m \u001b[0mengine\u001b[0m \u001b[1;33m==\u001b[0m \u001b[1;34m\"python\"\u001b[0m\u001b[1;33m:\u001b[0m\u001b[1;33m\u001b[0m\u001b[1;33m\u001b[0m\u001b[0m\n",
      "\u001b[1;32m~\\anaconda3\\lib\\site-packages\\pandas\\io\\parsers.py\u001b[0m in \u001b[0;36m__init__\u001b[1;34m(self, src, **kwds)\u001b[0m\n\u001b[0;32m   1889\u001b[0m         \u001b[0mkwds\u001b[0m\u001b[1;33m[\u001b[0m\u001b[1;34m\"usecols\"\u001b[0m\u001b[1;33m]\u001b[0m \u001b[1;33m=\u001b[0m \u001b[0mself\u001b[0m\u001b[1;33m.\u001b[0m\u001b[0musecols\u001b[0m\u001b[1;33m\u001b[0m\u001b[1;33m\u001b[0m\u001b[0m\n\u001b[0;32m   1890\u001b[0m \u001b[1;33m\u001b[0m\u001b[0m\n\u001b[1;32m-> 1891\u001b[1;33m         \u001b[0mself\u001b[0m\u001b[1;33m.\u001b[0m\u001b[0m_reader\u001b[0m \u001b[1;33m=\u001b[0m \u001b[0mparsers\u001b[0m\u001b[1;33m.\u001b[0m\u001b[0mTextReader\u001b[0m\u001b[1;33m(\u001b[0m\u001b[0msrc\u001b[0m\u001b[1;33m,\u001b[0m \u001b[1;33m**\u001b[0m\u001b[0mkwds\u001b[0m\u001b[1;33m)\u001b[0m\u001b[1;33m\u001b[0m\u001b[1;33m\u001b[0m\u001b[0m\n\u001b[0m\u001b[0;32m   1892\u001b[0m         \u001b[0mself\u001b[0m\u001b[1;33m.\u001b[0m\u001b[0munnamed_cols\u001b[0m \u001b[1;33m=\u001b[0m \u001b[0mself\u001b[0m\u001b[1;33m.\u001b[0m\u001b[0m_reader\u001b[0m\u001b[1;33m.\u001b[0m\u001b[0munnamed_cols\u001b[0m\u001b[1;33m\u001b[0m\u001b[1;33m\u001b[0m\u001b[0m\n\u001b[0;32m   1893\u001b[0m \u001b[1;33m\u001b[0m\u001b[0m\n",
      "\u001b[1;32mpandas\\_libs\\parsers.pyx\u001b[0m in \u001b[0;36mpandas._libs.parsers.TextReader.__cinit__\u001b[1;34m()\u001b[0m\n",
      "\u001b[1;32mpandas\\_libs\\parsers.pyx\u001b[0m in \u001b[0;36mpandas._libs.parsers.TextReader._setup_parser_source\u001b[1;34m()\u001b[0m\n",
      "\u001b[1;31mFileNotFoundError\u001b[0m: [Errno 2] File input_data\\sales_train_validation.csv does not exist: 'input_data\\\\sales_train_validation.csv'"
     ]
    }
   ],
   "source": [
    "import settings"
   ]
  },
  {
   "cell_type": "code",
   "execution_count": 6,
   "metadata": {},
   "outputs": [],
   "source": [
    "test_lags = pd.read_feather(os.path.join('../output/feature', '{0}.tst.feather'.format('lags2')))\n",
    "test_simple = pd.read_feather(os.path.join('../output/feature', '{0}.tst.feather'.format('simple')))\n",
    "\n",
    "last_day_n = 1913\n",
    "\n",
    "X_tst = pd.concat([test_lags, test_simple], axis=1)"
   ]
  },
  {
   "cell_type": "code",
   "execution_count": 17,
   "metadata": {},
   "outputs": [
    {
     "output_type": "execute_result",
     "data": {
      "text/plain": "   rolling_mean_7_7  rolling_mean_7_14  rolling_mean_7_28  rolling_mean_7_30  \\\n0          0.856934           1.286133           0.964355           1.033203   \n1          1.000000           1.071289           0.928711           0.966797   \n2          1.142578           1.000000           0.893066           0.966797   \n3          1.428711           1.000000           1.000000           1.000000   \n4          1.286133           1.000000           0.964355           0.933105   \n\n   rolling_mean_7_60  \n0           1.049805  \n1           1.049805  \n2           1.033203  \n3           1.083008  \n4           1.016602  ",
      "text/html": "<div>\n<style scoped>\n    .dataframe tbody tr th:only-of-type {\n        vertical-align: middle;\n    }\n\n    .dataframe tbody tr th {\n        vertical-align: top;\n    }\n\n    .dataframe thead th {\n        text-align: right;\n    }\n</style>\n<table border=\"1\" class=\"dataframe\">\n  <thead>\n    <tr style=\"text-align: right;\">\n      <th></th>\n      <th>rolling_mean_7_7</th>\n      <th>rolling_mean_7_14</th>\n      <th>rolling_mean_7_28</th>\n      <th>rolling_mean_7_30</th>\n      <th>rolling_mean_7_60</th>\n    </tr>\n  </thead>\n  <tbody>\n    <tr>\n      <th>0</th>\n      <td>0.856934</td>\n      <td>1.286133</td>\n      <td>0.964355</td>\n      <td>1.033203</td>\n      <td>1.049805</td>\n    </tr>\n    <tr>\n      <th>1</th>\n      <td>1.000000</td>\n      <td>1.071289</td>\n      <td>0.928711</td>\n      <td>0.966797</td>\n      <td>1.049805</td>\n    </tr>\n    <tr>\n      <th>2</th>\n      <td>1.142578</td>\n      <td>1.000000</td>\n      <td>0.893066</td>\n      <td>0.966797</td>\n      <td>1.033203</td>\n    </tr>\n    <tr>\n      <th>3</th>\n      <td>1.428711</td>\n      <td>1.000000</td>\n      <td>1.000000</td>\n      <td>1.000000</td>\n      <td>1.083008</td>\n    </tr>\n    <tr>\n      <th>4</th>\n      <td>1.286133</td>\n      <td>1.000000</td>\n      <td>0.964355</td>\n      <td>0.933105</td>\n      <td>1.016602</td>\n    </tr>\n  </tbody>\n</table>\n</div>"
     },
     "metadata": {},
     "execution_count": 17
    }
   ],
   "source": [
    "filter_col = [col for col in X_tst if col.startswith('rolling_mean_7')]\n",
    "X_tst[filter_col].head()"
   ]
  },
  {
   "cell_type": "code",
   "execution_count": 6,
   "metadata": {},
   "outputs": [
    {
     "output_type": "execute_result",
     "data": {
      "text/plain": "28727479"
     },
     "metadata": {},
     "execution_count": 6
    }
   ],
   "source": [
    "len(dt) + len(dtest)"
   ]
  },
  {
   "cell_type": "code",
   "execution_count": 6,
   "metadata": {},
   "outputs": [
    {
     "output_type": "execute_result",
     "data": {
      "text/plain": "Empty DataFrame\nColumns: [id, item_id, dept_id, store_id, cat_id, state_id, d, sales, date, wm_yr_wk, weekday, wday, month, year, event_name_1, event_type_1, event_name_2, event_type_2, snap_CA, snap_TX, snap_WI, sell_price, lag_7, lag_28, rmean_7_7, rmean_28_7, rmean_7_28, rmean_28_28, week, quarter, mday]\nIndex: []\n\n[0 rows x 31 columns]",
      "text/html": "<div>\n<style scoped>\n    .dataframe tbody tr th:only-of-type {\n        vertical-align: middle;\n    }\n\n    .dataframe tbody tr th {\n        vertical-align: top;\n    }\n\n    .dataframe thead th {\n        text-align: right;\n    }\n</style>\n<table border=\"1\" class=\"dataframe\">\n  <thead>\n    <tr style=\"text-align: right;\">\n      <th></th>\n      <th>id</th>\n      <th>item_id</th>\n      <th>dept_id</th>\n      <th>store_id</th>\n      <th>cat_id</th>\n      <th>state_id</th>\n      <th>d</th>\n      <th>sales</th>\n      <th>date</th>\n      <th>wm_yr_wk</th>\n      <th>...</th>\n      <th>sell_price</th>\n      <th>lag_7</th>\n      <th>lag_28</th>\n      <th>rmean_7_7</th>\n      <th>rmean_28_7</th>\n      <th>rmean_7_28</th>\n      <th>rmean_28_28</th>\n      <th>week</th>\n      <th>quarter</th>\n      <th>mday</th>\n    </tr>\n  </thead>\n  <tbody>\n  </tbody>\n</table>\n<p>0 rows × 31 columns</p>\n</div>"
     },
     "metadata": {},
     "execution_count": 6
    }
   ],
   "source": [
    "dt[dt['lag_7'] == np.nan]"
   ]
  },
  {
   "cell_type": "code",
   "execution_count": null,
   "metadata": {},
   "outputs": [],
   "source": [
    "STORES_IDS = list(dt['store_id'].unique())\n",
    "STORES_IDS"
   ]
  },
  {
   "cell_type": "code",
   "execution_count": 7,
   "metadata": {},
   "outputs": [
    {
     "output_type": "stream",
     "name": "stdout",
     "text": "<class 'pandas.core.frame.DataFrame'>\nRangeIndex: 25678759 entries, 0 to 25678758\nData columns (total 31 columns):\n #   Column        Dtype         \n---  ------        -----         \n 0   id            object        \n 1   item_id       int16         \n 2   dept_id       int16         \n 3   store_id      int16         \n 4   cat_id        int16         \n 5   state_id      int16         \n 6   d             object        \n 7   sales         float64       \n 8   date          datetime64[ns]\n 9   wm_yr_wk      int16         \n 10  weekday       int16         \n 11  wday          int16         \n 12  month         int16         \n 13  year          int16         \n 14  event_name_1  int16         \n 15  event_type_1  int16         \n 16  event_name_2  int16         \n 17  event_type_2  int16         \n 18  snap_CA       float32       \n 19  snap_TX       float32       \n 20  snap_WI       float32       \n 21  sell_price    float32       \n 22  lag_7         float64       \n 23  lag_28        float64       \n 24  rmean_7_7     float64       \n 25  rmean_28_7    float64       \n 26  rmean_7_28    float64       \n 27  rmean_28_28   float64       \n 28  week          int16         \n 29  quarter       int16         \n 30  mday          int16         \ndtypes: datetime64[ns](1), float32(4), float64(7), int16(17), object(2)\nmemory usage: 3.1+ GB\n"
    }
   ],
   "source": [
    "dt.info()"
   ]
  },
  {
   "cell_type": "code",
   "execution_count": 8,
   "metadata": {},
   "outputs": [
    {
     "output_type": "execute_result",
     "data": {
      "text/plain": "                              id  item_id  dept_id  store_id  cat_id  \\\n0  HOBBIES_1_001_CA_1_validation        0        0         0       0   \n1  HOBBIES_1_001_CA_1_validation        0        0         0       0   \n2  HOBBIES_1_001_CA_1_validation        0        0         0       0   \n3  HOBBIES_1_002_CA_1_validation        1        0         0       0   \n4  HOBBIES_1_002_CA_1_validation        1        0         0       0   \n\n   state_id       d  sales       date  wm_yr_wk  ...  sell_price  lag_7  \\\n0         0  d_1069    1.0 2014-01-01     11349  ...        8.26    NaN   \n1         0  d_1070    1.0 2014-01-02     11349  ...        8.26    NaN   \n2         0  d_1071    0.0 2014-01-03     11349  ...        8.26    NaN   \n3         0  d_1069    0.0 2014-01-01     11349  ...        3.97    NaN   \n4         0  d_1070    0.0 2014-01-02     11349  ...        3.97    NaN   \n\n   lag_28  rmean_7_7  rmean_28_7  rmean_7_28  rmean_28_28  week  quarter  mday  \n0     NaN        NaN         NaN         NaN          NaN     1        1     1  \n1     NaN        NaN         NaN         NaN          NaN     1        1     2  \n2     NaN        NaN         NaN         NaN          NaN     1        1     3  \n3     NaN        NaN         NaN         NaN          NaN     1        1     1  \n4     NaN        NaN         NaN         NaN          NaN     1        1     2  \n\n[5 rows x 31 columns]",
      "text/html": "<div>\n<style scoped>\n    .dataframe tbody tr th:only-of-type {\n        vertical-align: middle;\n    }\n\n    .dataframe tbody tr th {\n        vertical-align: top;\n    }\n\n    .dataframe thead th {\n        text-align: right;\n    }\n</style>\n<table border=\"1\" class=\"dataframe\">\n  <thead>\n    <tr style=\"text-align: right;\">\n      <th></th>\n      <th>id</th>\n      <th>item_id</th>\n      <th>dept_id</th>\n      <th>store_id</th>\n      <th>cat_id</th>\n      <th>state_id</th>\n      <th>d</th>\n      <th>sales</th>\n      <th>date</th>\n      <th>wm_yr_wk</th>\n      <th>...</th>\n      <th>sell_price</th>\n      <th>lag_7</th>\n      <th>lag_28</th>\n      <th>rmean_7_7</th>\n      <th>rmean_28_7</th>\n      <th>rmean_7_28</th>\n      <th>rmean_28_28</th>\n      <th>week</th>\n      <th>quarter</th>\n      <th>mday</th>\n    </tr>\n  </thead>\n  <tbody>\n    <tr>\n      <th>0</th>\n      <td>HOBBIES_1_001_CA_1_validation</td>\n      <td>0</td>\n      <td>0</td>\n      <td>0</td>\n      <td>0</td>\n      <td>0</td>\n      <td>d_1069</td>\n      <td>1.0</td>\n      <td>2014-01-01</td>\n      <td>11349</td>\n      <td>...</td>\n      <td>8.26</td>\n      <td>NaN</td>\n      <td>NaN</td>\n      <td>NaN</td>\n      <td>NaN</td>\n      <td>NaN</td>\n      <td>NaN</td>\n      <td>1</td>\n      <td>1</td>\n      <td>1</td>\n    </tr>\n    <tr>\n      <th>1</th>\n      <td>HOBBIES_1_001_CA_1_validation</td>\n      <td>0</td>\n      <td>0</td>\n      <td>0</td>\n      <td>0</td>\n      <td>0</td>\n      <td>d_1070</td>\n      <td>1.0</td>\n      <td>2014-01-02</td>\n      <td>11349</td>\n      <td>...</td>\n      <td>8.26</td>\n      <td>NaN</td>\n      <td>NaN</td>\n      <td>NaN</td>\n      <td>NaN</td>\n      <td>NaN</td>\n      <td>NaN</td>\n      <td>1</td>\n      <td>1</td>\n      <td>2</td>\n    </tr>\n    <tr>\n      <th>2</th>\n      <td>HOBBIES_1_001_CA_1_validation</td>\n      <td>0</td>\n      <td>0</td>\n      <td>0</td>\n      <td>0</td>\n      <td>0</td>\n      <td>d_1071</td>\n      <td>0.0</td>\n      <td>2014-01-03</td>\n      <td>11349</td>\n      <td>...</td>\n      <td>8.26</td>\n      <td>NaN</td>\n      <td>NaN</td>\n      <td>NaN</td>\n      <td>NaN</td>\n      <td>NaN</td>\n      <td>NaN</td>\n      <td>1</td>\n      <td>1</td>\n      <td>3</td>\n    </tr>\n    <tr>\n      <th>3</th>\n      <td>HOBBIES_1_002_CA_1_validation</td>\n      <td>1</td>\n      <td>0</td>\n      <td>0</td>\n      <td>0</td>\n      <td>0</td>\n      <td>d_1069</td>\n      <td>0.0</td>\n      <td>2014-01-01</td>\n      <td>11349</td>\n      <td>...</td>\n      <td>3.97</td>\n      <td>NaN</td>\n      <td>NaN</td>\n      <td>NaN</td>\n      <td>NaN</td>\n      <td>NaN</td>\n      <td>NaN</td>\n      <td>1</td>\n      <td>1</td>\n      <td>1</td>\n    </tr>\n    <tr>\n      <th>4</th>\n      <td>HOBBIES_1_002_CA_1_validation</td>\n      <td>1</td>\n      <td>0</td>\n      <td>0</td>\n      <td>0</td>\n      <td>0</td>\n      <td>d_1070</td>\n      <td>0.0</td>\n      <td>2014-01-02</td>\n      <td>11349</td>\n      <td>...</td>\n      <td>3.97</td>\n      <td>NaN</td>\n      <td>NaN</td>\n      <td>NaN</td>\n      <td>NaN</td>\n      <td>NaN</td>\n      <td>NaN</td>\n      <td>1</td>\n      <td>1</td>\n      <td>2</td>\n    </tr>\n  </tbody>\n</table>\n<p>5 rows × 31 columns</p>\n</div>"
     },
     "metadata": {},
     "execution_count": 8
    }
   ],
   "source": [
    "dt.head()"
   ]
  },
  {
   "cell_type": "code",
   "execution_count": 5,
   "metadata": {},
   "outputs": [
    {
     "output_type": "execute_result",
     "data": {
      "text/plain": "Index(['id', 'item_id', 'dept_id', 'store_id', 'cat_id', 'state_id', 'd',\n       'sales', 'date', 'wm_yr_wk', 'weekday', 'wday', 'month', 'year',\n       'event_name_1', 'event_type_1', 'event_name_2', 'event_type_2',\n       'snap_CA', 'snap_TX', 'snap_WI', 'sell_price', 'lag_7', 'lag_14',\n       'lag_28', 'lag_29', 'lag_30', 'lag_31', 'lag_32', 'lag_33', 'lag_34',\n       'lag_35', 'lag_36', 'lag_37', 'lag_38', 'lag_39', 'lag_40', 'lag_41',\n       'lag_42', 'rolling_mean_1_7', 'rolling_mean_1_14', 'rolling_mean_1_28',\n       'rolling_mean_1_30', 'rolling_mean_1_60', 'rolling_mean_7_7',\n       'rolling_mean_7_14', 'rolling_mean_7_28', 'rolling_mean_7_30',\n       'rolling_mean_7_60', 'rolling_mean_14_7', 'rolling_mean_14_14',\n       'rolling_mean_14_28', 'rolling_mean_14_30', 'rolling_mean_14_60',\n       'rolling_mean_28_7', 'rolling_mean_28_14', 'rolling_mean_28_28',\n       'rolling_mean_28_30', 'rolling_mean_28_60', 'rolling_mean_30_7',\n       'rolling_mean_30_14', 'rolling_mean_30_28', 'rolling_mean_30_30',\n       'rolling_mean_30_60', 'rolling_mean_60_7', 'rolling_mean_60_14',\n       'rolling_mean_60_28', 'rolling_mean_60_30', 'rolling_mean_60_60',\n       'rolling_mean_365_7', 'rolling_mean_365_14', 'rolling_mean_365_28',\n       'rolling_mean_365_30', 'rolling_mean_365_60', 'week', 'quarter',\n       'mday'],\n      dtype='object')"
     },
     "metadata": {},
     "execution_count": 5
    }
   ],
   "source": [
    "test = pd.read_feather(r'..\\output\\feature\\lags.tst.feather')\n",
    "test.columns"
   ]
  },
  {
   "cell_type": "code",
   "execution_count": 12,
   "metadata": {},
   "outputs": [
    {
     "output_type": "execute_result",
     "data": {
      "text/plain": "id                   0\nitem_id              0\ndept_id              0\nstore_id             0\ncat_id               0\nstate_id             0\nd                    0\nsales           853720\ndate                 0\nwm_yr_wk             0\nweekday              0\nwday                 0\nmonth                0\nyear                 0\nevent_name_1         0\nevent_type_1         0\nevent_name_2         0\nevent_type_2         0\nsnap_CA              0\nsnap_TX              0\nsnap_WI              0\nsell_price           0\nlag_7           640290\nlag_28               0\nrmean_7_7       640290\nrmean_28_7           0\nrmean_7_28      640290\nrmean_28_28          0\nweek                 0\nquarter              0\nmday                 0\ndtype: int64"
     },
     "metadata": {},
     "execution_count": 12
    }
   ],
   "source": [
    "test.isna().sum()"
   ]
  },
  {
   "cell_type": "code",
   "execution_count": null,
   "metadata": {},
   "outputs": [],
   "source": []
  }
 ],
 "metadata": {
  "kernelspec": {
   "display_name": "Python 3",
   "language": "python",
   "name": "python3"
  },
  "language_info": {
   "codemirror_mode": {
    "name": "ipython",
    "version": 3
   },
   "file_extension": ".py",
   "mimetype": "text/x-python",
   "name": "python",
   "nbconvert_exporter": "python",
   "pygments_lexer": "ipython3",
   "version": "3.7.6-final"
  }
 },
 "nbformat": 4,
 "nbformat_minor": 4
}