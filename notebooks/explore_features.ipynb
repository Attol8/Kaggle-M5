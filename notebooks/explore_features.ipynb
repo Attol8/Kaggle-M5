{
 "cells": [
  {
   "cell_type": "code",
   "execution_count": 1,
   "metadata": {},
   "outputs": [],
   "source": [
    "import os,sys,inspect\n",
    "current_dir = os.path.dirname(os.path.abspath(inspect.getfile(inspect.currentframe())))\n",
    "parent_dir = os.path.dirname(current_dir)\n",
    "sys.path.insert(0, parent_dir) "
   ]
  },
  {
   "cell_type": "code",
   "execution_count": 2,
   "metadata": {},
   "outputs": [],
   "source": [
    "import datetime\n",
    "import gc\n",
    "import numpy as np, pandas as pd\n",
    "import lightgbm as lgb\n",
    "import os"
   ]
  },
  {
   "cell_type": "code",
   "execution_count": 3,
   "metadata": {},
   "outputs": [],
   "source": [
    "## Read train and test file\n",
    "trn = pd.read_feather(r\"..\\input_data\\train.feather\")\n",
    "tst = pd.read_feather(r\"..\\input_data\\test.feather\")"
   ]
  },
  {
   "cell_type": "code",
   "execution_count": 18,
   "metadata": {},
   "outputs": [],
   "source": [
    "## Read feature file\n",
    "feature_name = 'best'\n",
    "trn_f = pd.read_feather(r\"..\\output\\feature\\{0}.trn.feather\".format(feature_name))\n",
    "#tst_f = pd.read_feather(r\"..\\output\\feature\\{0}.tst.feather\".format(feature_name))"
   ]
  },
  {
   "cell_type": "code",
   "execution_count": 8,
   "metadata": {},
   "outputs": [
    {
     "output_type": "execute_result",
     "data": {
      "text/plain": "0           NaN\n1           NaN\n2           NaN\n3           NaN\n4           NaN\n           ... \n40718214    4.0\n40718215    3.0\n40718216    3.0\n40718217    0.0\n40718218    0.0\nName: sales, Length: 40718219, dtype: float16"
     },
     "metadata": {},
     "execution_count": 8
    }
   ],
   "source": [
    "trn[[\"id\",\"sales\"]].groupby(['id'])[\"sales\"].transform(lambda x: x.shift(7).rolling(7).max()).astype(np.float16)"
   ]
  },
  {
   "cell_type": "code",
   "execution_count": 19,
   "metadata": {},
   "outputs": [
    {
     "output_type": "execute_result",
     "data": {
      "text/plain": "(12746688, 30)"
     },
     "metadata": {},
     "execution_count": 19
    }
   ],
   "source": [
    "trn_f.shape"
   ]
  },
  {
   "cell_type": "code",
   "execution_count": 16,
   "metadata": {},
   "outputs": [
    {
     "output_type": "execute_result",
     "data": {
      "text/plain": "Index(['id', 'item_id', 'dept_id', 'store_id', 'cat_id', 'state_id', 'd',\n       'sales', 'date', 'wm_yr_wk', 'weekday', 'wday', 'month', 'year',\n       'event_name_1', 'event_type_1', 'event_name_2', 'event_type_2',\n       'snap_CA', 'snap_TX', 'snap_WI', 'sell_price'],\n      dtype='object')"
     },
     "metadata": {},
     "execution_count": 16
    }
   ],
   "source": [
    "trn.columns"
   ]
  },
  {
   "cell_type": "code",
   "execution_count": 14,
   "metadata": {},
   "outputs": [
    {
     "output_type": "execute_result",
     "data": {
      "text/plain": "                              id  item_id  dept_id  store_id  cat_id  \\\n0  HOBBIES_1_002_CA_1_validation        1        0         0       0   \n1  HOBBIES_1_004_CA_1_validation        3        0         0       0   \n2  HOBBIES_1_005_CA_1_validation        4        0         0       0   \n3  HOBBIES_1_008_CA_1_validation        7        0         0       0   \n4  HOBBIES_1_009_CA_1_validation        8        0         0       0   \n\n   state_id      d  sales       date  wm_yr_wk  ...  month  year  \\\n0         0  d_350    0.0 2012-01-13     11150  ...      1  2012   \n1         0  d_350    2.0 2012-01-13     11150  ...      1  2012   \n2         0  d_350    0.0 2012-01-13     11150  ...      1  2012   \n3         0  d_350    0.0 2012-01-13     11150  ...      1  2012   \n4         0  d_350    2.0 2012-01-13     11150  ...      1  2012   \n\n   event_name_1  event_type_1  event_name_2  event_type_2  snap_CA  snap_TX  \\\n0             0             0             0             0      0.0      1.0   \n1             0             0             0             0      0.0      1.0   \n2             0             0             0             0      0.0      1.0   \n3             0             0             0             0      0.0      1.0   \n4             0             0             0             0      0.0      1.0   \n\n   snap_WI  sell_price  \n0      0.0        3.97  \n1      0.0        4.34  \n2      0.0        2.48  \n3      0.0        0.50  \n4      0.0        1.77  \n\n[5 rows x 22 columns]",
      "text/html": "<div>\n<style scoped>\n    .dataframe tbody tr th:only-of-type {\n        vertical-align: middle;\n    }\n\n    .dataframe tbody tr th {\n        vertical-align: top;\n    }\n\n    .dataframe thead th {\n        text-align: right;\n    }\n</style>\n<table border=\"1\" class=\"dataframe\">\n  <thead>\n    <tr style=\"text-align: right;\">\n      <th></th>\n      <th>id</th>\n      <th>item_id</th>\n      <th>dept_id</th>\n      <th>store_id</th>\n      <th>cat_id</th>\n      <th>state_id</th>\n      <th>d</th>\n      <th>sales</th>\n      <th>date</th>\n      <th>wm_yr_wk</th>\n      <th>...</th>\n      <th>month</th>\n      <th>year</th>\n      <th>event_name_1</th>\n      <th>event_type_1</th>\n      <th>event_name_2</th>\n      <th>event_type_2</th>\n      <th>snap_CA</th>\n      <th>snap_TX</th>\n      <th>snap_WI</th>\n      <th>sell_price</th>\n    </tr>\n  </thead>\n  <tbody>\n    <tr>\n      <th>0</th>\n      <td>HOBBIES_1_002_CA_1_validation</td>\n      <td>1</td>\n      <td>0</td>\n      <td>0</td>\n      <td>0</td>\n      <td>0</td>\n      <td>d_350</td>\n      <td>0.0</td>\n      <td>2012-01-13</td>\n      <td>11150</td>\n      <td>...</td>\n      <td>1</td>\n      <td>2012</td>\n      <td>0</td>\n      <td>0</td>\n      <td>0</td>\n      <td>0</td>\n      <td>0.0</td>\n      <td>1.0</td>\n      <td>0.0</td>\n      <td>3.97</td>\n    </tr>\n    <tr>\n      <th>1</th>\n      <td>HOBBIES_1_004_CA_1_validation</td>\n      <td>3</td>\n      <td>0</td>\n      <td>0</td>\n      <td>0</td>\n      <td>0</td>\n      <td>d_350</td>\n      <td>2.0</td>\n      <td>2012-01-13</td>\n      <td>11150</td>\n      <td>...</td>\n      <td>1</td>\n      <td>2012</td>\n      <td>0</td>\n      <td>0</td>\n      <td>0</td>\n      <td>0</td>\n      <td>0.0</td>\n      <td>1.0</td>\n      <td>0.0</td>\n      <td>4.34</td>\n    </tr>\n    <tr>\n      <th>2</th>\n      <td>HOBBIES_1_005_CA_1_validation</td>\n      <td>4</td>\n      <td>0</td>\n      <td>0</td>\n      <td>0</td>\n      <td>0</td>\n      <td>d_350</td>\n      <td>0.0</td>\n      <td>2012-01-13</td>\n      <td>11150</td>\n      <td>...</td>\n      <td>1</td>\n      <td>2012</td>\n      <td>0</td>\n      <td>0</td>\n      <td>0</td>\n      <td>0</td>\n      <td>0.0</td>\n      <td>1.0</td>\n      <td>0.0</td>\n      <td>2.48</td>\n    </tr>\n    <tr>\n      <th>3</th>\n      <td>HOBBIES_1_008_CA_1_validation</td>\n      <td>7</td>\n      <td>0</td>\n      <td>0</td>\n      <td>0</td>\n      <td>0</td>\n      <td>d_350</td>\n      <td>0.0</td>\n      <td>2012-01-13</td>\n      <td>11150</td>\n      <td>...</td>\n      <td>1</td>\n      <td>2012</td>\n      <td>0</td>\n      <td>0</td>\n      <td>0</td>\n      <td>0</td>\n      <td>0.0</td>\n      <td>1.0</td>\n      <td>0.0</td>\n      <td>0.50</td>\n    </tr>\n    <tr>\n      <th>4</th>\n      <td>HOBBIES_1_009_CA_1_validation</td>\n      <td>8</td>\n      <td>0</td>\n      <td>0</td>\n      <td>0</td>\n      <td>0</td>\n      <td>d_350</td>\n      <td>2.0</td>\n      <td>2012-01-13</td>\n      <td>11150</td>\n      <td>...</td>\n      <td>1</td>\n      <td>2012</td>\n      <td>0</td>\n      <td>0</td>\n      <td>0</td>\n      <td>0</td>\n      <td>0.0</td>\n      <td>1.0</td>\n      <td>0.0</td>\n      <td>1.77</td>\n    </tr>\n  </tbody>\n</table>\n<p>5 rows × 22 columns</p>\n</div>"
     },
     "metadata": {},
     "execution_count": 14
    }
   ],
   "source": [
    "trn.head()"
   ]
  },
  {
   "cell_type": "code",
   "execution_count": 10,
   "metadata": {},
   "outputs": [
    {
     "output_type": "execute_result",
     "data": {
      "text/plain": "(2622140, 22)"
     },
     "metadata": {},
     "execution_count": 10
    }
   ],
   "source": [
    "tst.shape"
   ]
  },
  {
   "cell_type": "code",
   "execution_count": 10,
   "metadata": {},
   "outputs": [
    {
     "output_type": "execute_result",
     "data": {
      "text/plain": "Index(['id', 'item_id', 'dept_id', 'store_id', 'cat_id', 'state_id', 'd',\n       'sales', 'date', 'wm_yr_wk',\n       ...\n       'rolling_std_60_14', 'rolling_mean_60_28', 'rolling_std_60_28',\n       'rolling_mean_60_30', 'rolling_std_60_30', 'rolling_mean_60_60',\n       'rolling_std_60_60', 'week', 'quarter', 'mday'],\n      dtype='object', length=102)"
     },
     "metadata": {},
     "execution_count": 10
    }
   ],
   "source": [
    "trn_f.columns"
   ]
  },
  {
   "cell_type": "code",
   "execution_count": 12,
   "metadata": {},
   "outputs": [
    {
     "output_type": "stream",
     "name": "stdout",
     "text": "(25316381, 22)\n(5760972, 22)\n"
    }
   ],
   "source": [
    "print(trn.shape)\n",
    "print(tst.shape)"
   ]
  },
  {
   "cell_type": "code",
   "execution_count": 20,
   "metadata": {},
   "outputs": [
    {
     "output_type": "execute_result",
     "data": {
      "text/plain": "1335.4614299770417"
     },
     "metadata": {},
     "execution_count": 20
    }
   ],
   "source": [
    "40718219/30490"
   ]
  },
  {
   "cell_type": "code",
   "execution_count": null,
   "metadata": {},
   "outputs": [],
   "source": []
  }
 ],
 "metadata": {
  "language_info": {
   "name": "python",
   "codemirror_mode": {
    "name": "ipython",
    "version": 3
   },
   "version": "3.7.6-final"
  },
  "orig_nbformat": 2,
  "file_extension": ".py",
  "mimetype": "text/x-python",
  "name": "python",
  "npconvert_exporter": "python",
  "pygments_lexer": "ipython3",
  "version": 3,
  "kernelspec": {
   "name": "python3",
   "display_name": "Python 3"
  }
 },
 "nbformat": 4,
 "nbformat_minor": 2
}