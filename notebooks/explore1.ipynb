{
 "nbformat": 4,
 "nbformat_minor": 2,
 "metadata": {
  "language_info": {
   "name": "python",
   "codemirror_mode": {
    "name": "ipython",
    "version": 3
   },
   "version": "3.7.6-final"
  },
  "orig_nbformat": 2,
  "file_extension": ".py",
  "mimetype": "text/x-python",
  "name": "python",
  "npconvert_exporter": "python",
  "pygments_lexer": "ipython3",
  "version": 3,
  "kernelspec": {
   "name": "python3",
   "display_name": "Python 3"
  }
 },
 "cells": [
  {
   "cell_type": "code",
   "execution_count": 1,
   "metadata": {},
   "outputs": [],
   "source": [
    "from  datetime import datetime, timedelta\n",
    "import gc\n",
    "import numpy as np, pandas as pd\n",
    "import lightgbm as lgb\n",
    "import os"
   ]
  },
  {
   "cell_type": "code",
   "execution_count": 3,
   "metadata": {},
   "outputs": [
    {
     "output_type": "execute_result",
     "data": {
      "text/plain": "(25678759, 32)"
     },
     "metadata": {},
     "execution_count": 3
    }
   ],
   "source": [
    "df = pd.read_csv(\"..\\output\\data-Poe05-train.csv\")\n",
    "df.shape"
   ]
  },
  {
   "cell_type": "code",
   "execution_count": 4,
   "metadata": {},
   "outputs": [
    {
     "output_type": "execute_result",
     "data": {
      "text/plain": "'d_1941'"
     },
     "metadata": {},
     "execution_count": 4
    }
   ],
   "source": [
    "max(df.d)"
   ]
  },
  {
   "cell_type": "code",
   "execution_count": 5,
   "metadata": {},
   "outputs": [
    {
     "output_type": "execute_result",
     "data": {
      "text/plain": "          Unnamed: 0                           id  item_id  dept_id  store_id  \\\n25678754    25678754  FOODS_3_825_WI_3_validation     3046        6         9   \n25678755    25678755  FOODS_3_826_WI_3_validation     3047        6         9   \n25678756    25678756  FOODS_3_826_WI_3_validation     3047        6         9   \n25678757    25678757  FOODS_3_827_WI_3_validation     3048        6         9   \n25678758    25678758  FOODS_3_827_WI_3_validation     3048        6         9   \n\n          cat_id  state_id       d  sales        date  ...  sell_price  lag_7  \\\n25678754       2         2  d_1941    NaN  2016-05-22  ...        3.98    NaN   \n25678755       2         2  d_1940    NaN  2016-05-21  ...        1.28    NaN   \n25678756       2         2  d_1941    NaN  2016-05-22  ...        1.28    NaN   \n25678757       2         2  d_1940    NaN  2016-05-21  ...        1.00    NaN   \n25678758       2         2  d_1941    NaN  2016-05-22  ...        1.00    NaN   \n\n          lag_28  rmean_7_7  rmean_28_7  rmean_7_28  rmean_28_28  week  \\\n25678754     0.0        NaN    0.571429         NaN     0.892857    20   \n25678755     1.0        NaN    0.857143         NaN     0.964286    20   \n25678756     3.0        NaN    1.142857         NaN     0.928571    20   \n25678757     0.0        NaN    0.000000         NaN     1.250000    20   \n25678758     0.0        NaN    0.000000         NaN     1.071429    20   \n\n          quarter  mday  \n25678754        2    22  \n25678755        2    21  \n25678756        2    22  \n25678757        2    21  \n25678758        2    22  \n\n[5 rows x 32 columns]",
      "text/html": "<div>\n<style scoped>\n    .dataframe tbody tr th:only-of-type {\n        vertical-align: middle;\n    }\n\n    .dataframe tbody tr th {\n        vertical-align: top;\n    }\n\n    .dataframe thead th {\n        text-align: right;\n    }\n</style>\n<table border=\"1\" class=\"dataframe\">\n  <thead>\n    <tr style=\"text-align: right;\">\n      <th></th>\n      <th>Unnamed: 0</th>\n      <th>id</th>\n      <th>item_id</th>\n      <th>dept_id</th>\n      <th>store_id</th>\n      <th>cat_id</th>\n      <th>state_id</th>\n      <th>d</th>\n      <th>sales</th>\n      <th>date</th>\n      <th>...</th>\n      <th>sell_price</th>\n      <th>lag_7</th>\n      <th>lag_28</th>\n      <th>rmean_7_7</th>\n      <th>rmean_28_7</th>\n      <th>rmean_7_28</th>\n      <th>rmean_28_28</th>\n      <th>week</th>\n      <th>quarter</th>\n      <th>mday</th>\n    </tr>\n  </thead>\n  <tbody>\n    <tr>\n      <th>25678754</th>\n      <td>25678754</td>\n      <td>FOODS_3_825_WI_3_validation</td>\n      <td>3046</td>\n      <td>6</td>\n      <td>9</td>\n      <td>2</td>\n      <td>2</td>\n      <td>d_1941</td>\n      <td>NaN</td>\n      <td>2016-05-22</td>\n      <td>...</td>\n      <td>3.98</td>\n      <td>NaN</td>\n      <td>0.0</td>\n      <td>NaN</td>\n      <td>0.571429</td>\n      <td>NaN</td>\n      <td>0.892857</td>\n      <td>20</td>\n      <td>2</td>\n      <td>22</td>\n    </tr>\n    <tr>\n      <th>25678755</th>\n      <td>25678755</td>\n      <td>FOODS_3_826_WI_3_validation</td>\n      <td>3047</td>\n      <td>6</td>\n      <td>9</td>\n      <td>2</td>\n      <td>2</td>\n      <td>d_1940</td>\n      <td>NaN</td>\n      <td>2016-05-21</td>\n      <td>...</td>\n      <td>1.28</td>\n      <td>NaN</td>\n      <td>1.0</td>\n      <td>NaN</td>\n      <td>0.857143</td>\n      <td>NaN</td>\n      <td>0.964286</td>\n      <td>20</td>\n      <td>2</td>\n      <td>21</td>\n    </tr>\n    <tr>\n      <th>25678756</th>\n      <td>25678756</td>\n      <td>FOODS_3_826_WI_3_validation</td>\n      <td>3047</td>\n      <td>6</td>\n      <td>9</td>\n      <td>2</td>\n      <td>2</td>\n      <td>d_1941</td>\n      <td>NaN</td>\n      <td>2016-05-22</td>\n      <td>...</td>\n      <td>1.28</td>\n      <td>NaN</td>\n      <td>3.0</td>\n      <td>NaN</td>\n      <td>1.142857</td>\n      <td>NaN</td>\n      <td>0.928571</td>\n      <td>20</td>\n      <td>2</td>\n      <td>22</td>\n    </tr>\n    <tr>\n      <th>25678757</th>\n      <td>25678757</td>\n      <td>FOODS_3_827_WI_3_validation</td>\n      <td>3048</td>\n      <td>6</td>\n      <td>9</td>\n      <td>2</td>\n      <td>2</td>\n      <td>d_1940</td>\n      <td>NaN</td>\n      <td>2016-05-21</td>\n      <td>...</td>\n      <td>1.00</td>\n      <td>NaN</td>\n      <td>0.0</td>\n      <td>NaN</td>\n      <td>0.000000</td>\n      <td>NaN</td>\n      <td>1.250000</td>\n      <td>20</td>\n      <td>2</td>\n      <td>21</td>\n    </tr>\n    <tr>\n      <th>25678758</th>\n      <td>25678758</td>\n      <td>FOODS_3_827_WI_3_validation</td>\n      <td>3048</td>\n      <td>6</td>\n      <td>9</td>\n      <td>2</td>\n      <td>2</td>\n      <td>d_1941</td>\n      <td>NaN</td>\n      <td>2016-05-22</td>\n      <td>...</td>\n      <td>1.00</td>\n      <td>NaN</td>\n      <td>0.0</td>\n      <td>NaN</td>\n      <td>0.000000</td>\n      <td>NaN</td>\n      <td>1.071429</td>\n      <td>20</td>\n      <td>2</td>\n      <td>22</td>\n    </tr>\n  </tbody>\n</table>\n<p>5 rows × 32 columns</p>\n</div>"
     },
     "metadata": {},
     "execution_count": 5
    }
   ],
   "source": [
    "df.tail()"
   ]
  },
  {
   "cell_type": "code",
   "execution_count": 8,
   "metadata": {},
   "outputs": [
    {
     "output_type": "execute_result",
     "data": {
      "text/plain": "Unnamed: 0            0\nid                    0\nitem_id               0\ndept_id               0\nstore_id              0\ncat_id                0\nstate_id              0\nd                     0\nsales            853720\ndate                  0\nwm_yr_wk              0\nweekday               0\nwday                  0\nmonth                 0\nyear                  0\nevent_name_1          0\nevent_type_1          0\nevent_name_2          0\nevent_type_2          0\nsnap_CA               0\nsnap_TX               0\nsnap_WI               0\nsell_price            0\nlag_7            853720\nlag_28           853720\nrmean_7_7       1036660\nrmean_28_7      1036660\nrmean_7_28      1676950\nrmean_28_28     1676950\nweek                  0\nquarter               0\nmday                  0\ndtype: int64"
     },
     "metadata": {},
     "execution_count": 8
    }
   ],
   "source": [
    "df.isna().sum()"
   ]
  },
  {
   "cell_type": "code",
   "execution_count": 9,
   "metadata": {},
   "outputs": [
    {
     "output_type": "execute_result",
     "data": {
      "text/plain": "30490"
     },
     "metadata": {},
     "execution_count": 9
    }
   ],
   "source": [
    "len(df.id.unique())"
   ]
  },
  {
   "cell_type": "code",
   "execution_count": null,
   "metadata": {},
   "outputs": [],
   "source": []
  }
 ]
}